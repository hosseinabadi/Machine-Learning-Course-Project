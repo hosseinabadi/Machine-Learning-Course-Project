{
  "cells": [
    {
      "cell_type": "code",
      "execution_count": null,
      "metadata": {
        "id": "Cc9UdE4IudMN"
      },
      "outputs": [],
      "source": [
        "import numpy as np\n",
        "import pandas as pd \n",
        "import matplotlib.pyplot as plt\n",
        "import seaborn as sns\n",
        "import datetime\n",
        "%matplotlib inline\n",
        "sns.set()\n",
        "plt.style.use(\"ggplot\")\n",
        "\n",
        "import warnings                                            \n",
        "warnings.filterwarnings('ignore')\n",
        "\n",
        "import torch"
      ]
    },
    {
      "cell_type": "code",
      "execution_count": null,
      "metadata": {
        "id": "6D8o8QsJudMQ"
      },
      "outputs": [],
      "source": [
        "# read data\n",
        "data = pd.read_csv('train_dataset.csv')\n",
        "# /train_dataset.csv"
      ]
    },
    {
      "cell_type": "code",
      "execution_count": null,
      "metadata": {
        "id": "L2T-26nFudMR"
      },
      "outputs": [],
      "source": [
        "data['product_price'].replace({0:-1},inplace = True)"
      ]
    },
    {
      "cell_type": "markdown",
      "source": [
        "# New section"
      ],
      "metadata": {
        "id": "8Cy-1RI6Aub2"
      }
    },
    {
      "cell_type": "code",
      "execution_count": null,
      "metadata": {
        "id": "haWE3aT1udMR"
      },
      "outputs": [],
      "source": [
        "def replace_minus_one_with_nan(df):\n",
        "    num_cols = df._get_numeric_data().columns\n",
        "    categ_cols = set(df.columns) - set(num_cols)\n",
        "    for column in num_cols:\n",
        "        df[column][df[column] == -1] = np.nan\n",
        "    for column in categ_cols:\n",
        "        df[column][df[column].isin([\"-1\"])] = np.nan\n",
        "    return df\n",
        "\n",
        "data = replace_minus_one_with_nan(data)"
      ]
    },
    {
      "cell_type": "code",
      "execution_count": null,
      "metadata": {
        "id": "wGf6YygGudMS"
      },
      "outputs": [],
      "source": [
        "def time_stamp_to_day_and_hour(df):\n",
        "    df['click_timestamp'] = df['click_timestamp'].astype(str)\n",
        "    df['click_timestamp'] = df['click_timestamp'].apply(lambda d: datetime.datetime.strptime(d, '%Y-%m-%d %H:%M:%S'))\n",
        "    df['day'] = df['click_timestamp'].apply(lambda d: d.day)\n",
        "    df['hour'] = df['click_timestamp'].apply(lambda d: d.hour)\n",
        "    df = df.drop(columns = ['click_timestamp'])\n",
        "    return df\n",
        "\n",
        "data = time_stamp_to_day_and_hour(data)  "
      ]
    },
    {
      "cell_type": "code",
      "execution_count": null,
      "metadata": {
        "colab": {
          "base_uri": "https://localhost:8080/",
          "height": 300
        },
        "id": "XLM-3WDGfvWK",
        "outputId": "0e613137-f51e-48cc-f2d0-2d7a70bd6cc1"
      },
      "outputs": [
        {
          "output_type": "display_data",
          "data": {
            "text/html": [
              "\n",
              "  <div id=\"df-ec021419-1b95-4f56-89c0-42516debddbe\">\n",
              "    <div class=\"colab-df-container\">\n",
              "      <div>\n",
              "<style scoped>\n",
              "    .dataframe tbody tr th:only-of-type {\n",
              "        vertical-align: middle;\n",
              "    }\n",
              "\n",
              "    .dataframe tbody tr th {\n",
              "        vertical-align: top;\n",
              "    }\n",
              "\n",
              "    .dataframe thead th {\n",
              "        text-align: right;\n",
              "    }\n",
              "</style>\n",
              "<table border=\"1\" class=\"dataframe\">\n",
              "  <thead>\n",
              "    <tr style=\"text-align: right;\">\n",
              "      <th></th>\n",
              "      <th>Sale</th>\n",
              "      <th>SalesAmountInEuro</th>\n",
              "      <th>time_delay_for_conversion</th>\n",
              "      <th>nb_clicks_1week</th>\n",
              "      <th>product_price</th>\n",
              "      <th>product_category(7)</th>\n",
              "      <th>day</th>\n",
              "      <th>hour</th>\n",
              "    </tr>\n",
              "  </thead>\n",
              "  <tbody>\n",
              "    <tr>\n",
              "      <th>count</th>\n",
              "      <td>100000.000000</td>\n",
              "      <td>13661.000000</td>\n",
              "      <td>1.360600e+04</td>\n",
              "      <td>53940.000000</td>\n",
              "      <td>12784.000000</td>\n",
              "      <td>0.0</td>\n",
              "      <td>100000.000000</td>\n",
              "      <td>100000.000000</td>\n",
              "    </tr>\n",
              "    <tr>\n",
              "      <th>mean</th>\n",
              "      <td>0.136610</td>\n",
              "      <td>117.030507</td>\n",
              "      <td>3.213666e+05</td>\n",
              "      <td>439.389006</td>\n",
              "      <td>85.491137</td>\n",
              "      <td>NaN</td>\n",
              "      <td>3.574710</td>\n",
              "      <td>11.877010</td>\n",
              "    </tr>\n",
              "    <tr>\n",
              "      <th>std</th>\n",
              "      <td>0.343437</td>\n",
              "      <td>383.010444</td>\n",
              "      <td>5.884293e+05</td>\n",
              "      <td>1541.251393</td>\n",
              "      <td>165.115302</td>\n",
              "      <td>NaN</td>\n",
              "      <td>0.494389</td>\n",
              "      <td>7.091549</td>\n",
              "    </tr>\n",
              "    <tr>\n",
              "      <th>min</th>\n",
              "      <td>0.000000</td>\n",
              "      <td>0.000000</td>\n",
              "      <td>8.000000e+00</td>\n",
              "      <td>0.000000</td>\n",
              "      <td>0.180000</td>\n",
              "      <td>NaN</td>\n",
              "      <td>3.000000</td>\n",
              "      <td>0.000000</td>\n",
              "    </tr>\n",
              "    <tr>\n",
              "      <th>25%</th>\n",
              "      <td>0.000000</td>\n",
              "      <td>23.023790</td>\n",
              "      <td>6.970000e+02</td>\n",
              "      <td>6.000000</td>\n",
              "      <td>15.830000</td>\n",
              "      <td>NaN</td>\n",
              "      <td>3.000000</td>\n",
              "      <td>5.000000</td>\n",
              "    </tr>\n",
              "    <tr>\n",
              "      <th>50%</th>\n",
              "      <td>0.000000</td>\n",
              "      <td>51.870000</td>\n",
              "      <td>4.277500e+03</td>\n",
              "      <td>39.000000</td>\n",
              "      <td>35.565000</td>\n",
              "      <td>NaN</td>\n",
              "      <td>4.000000</td>\n",
              "      <td>13.000000</td>\n",
              "    </tr>\n",
              "    <tr>\n",
              "      <th>75%</th>\n",
              "      <td>0.000000</td>\n",
              "      <td>124.990000</td>\n",
              "      <td>3.484675e+05</td>\n",
              "      <td>198.000000</td>\n",
              "      <td>87.420000</td>\n",
              "      <td>NaN</td>\n",
              "      <td>4.000000</td>\n",
              "      <td>18.000000</td>\n",
              "    </tr>\n",
              "    <tr>\n",
              "      <th>max</th>\n",
              "      <td>1.000000</td>\n",
              "      <td>23691.224980</td>\n",
              "      <td>2.554631e+06</td>\n",
              "      <td>25390.000000</td>\n",
              "      <td>3928.000000</td>\n",
              "      <td>NaN</td>\n",
              "      <td>4.000000</td>\n",
              "      <td>23.000000</td>\n",
              "    </tr>\n",
              "  </tbody>\n",
              "</table>\n",
              "</div>\n",
              "      <button class=\"colab-df-convert\" onclick=\"convertToInteractive('df-ec021419-1b95-4f56-89c0-42516debddbe')\"\n",
              "              title=\"Convert this dataframe to an interactive table.\"\n",
              "              style=\"display:none;\">\n",
              "        \n",
              "  <svg xmlns=\"http://www.w3.org/2000/svg\" height=\"24px\"viewBox=\"0 0 24 24\"\n",
              "       width=\"24px\">\n",
              "    <path d=\"M0 0h24v24H0V0z\" fill=\"none\"/>\n",
              "    <path d=\"M18.56 5.44l.94 2.06.94-2.06 2.06-.94-2.06-.94-.94-2.06-.94 2.06-2.06.94zm-11 1L8.5 8.5l.94-2.06 2.06-.94-2.06-.94L8.5 2.5l-.94 2.06-2.06.94zm10 10l.94 2.06.94-2.06 2.06-.94-2.06-.94-.94-2.06-.94 2.06-2.06.94z\"/><path d=\"M17.41 7.96l-1.37-1.37c-.4-.4-.92-.59-1.43-.59-.52 0-1.04.2-1.43.59L10.3 9.45l-7.72 7.72c-.78.78-.78 2.05 0 2.83L4 21.41c.39.39.9.59 1.41.59.51 0 1.02-.2 1.41-.59l7.78-7.78 2.81-2.81c.8-.78.8-2.07 0-2.86zM5.41 20L4 18.59l7.72-7.72 1.47 1.35L5.41 20z\"/>\n",
              "  </svg>\n",
              "      </button>\n",
              "      \n",
              "  <style>\n",
              "    .colab-df-container {\n",
              "      display:flex;\n",
              "      flex-wrap:wrap;\n",
              "      gap: 12px;\n",
              "    }\n",
              "\n",
              "    .colab-df-convert {\n",
              "      background-color: #E8F0FE;\n",
              "      border: none;\n",
              "      border-radius: 50%;\n",
              "      cursor: pointer;\n",
              "      display: none;\n",
              "      fill: #1967D2;\n",
              "      height: 32px;\n",
              "      padding: 0 0 0 0;\n",
              "      width: 32px;\n",
              "    }\n",
              "\n",
              "    .colab-df-convert:hover {\n",
              "      background-color: #E2EBFA;\n",
              "      box-shadow: 0px 1px 2px rgba(60, 64, 67, 0.3), 0px 1px 3px 1px rgba(60, 64, 67, 0.15);\n",
              "      fill: #174EA6;\n",
              "    }\n",
              "\n",
              "    [theme=dark] .colab-df-convert {\n",
              "      background-color: #3B4455;\n",
              "      fill: #D2E3FC;\n",
              "    }\n",
              "\n",
              "    [theme=dark] .colab-df-convert:hover {\n",
              "      background-color: #434B5C;\n",
              "      box-shadow: 0px 1px 3px 1px rgba(0, 0, 0, 0.15);\n",
              "      filter: drop-shadow(0px 1px 2px rgba(0, 0, 0, 0.3));\n",
              "      fill: #FFFFFF;\n",
              "    }\n",
              "  </style>\n",
              "\n",
              "      <script>\n",
              "        const buttonEl =\n",
              "          document.querySelector('#df-ec021419-1b95-4f56-89c0-42516debddbe button.colab-df-convert');\n",
              "        buttonEl.style.display =\n",
              "          google.colab.kernel.accessAllowed ? 'block' : 'none';\n",
              "\n",
              "        async function convertToInteractive(key) {\n",
              "          const element = document.querySelector('#df-ec021419-1b95-4f56-89c0-42516debddbe');\n",
              "          const dataTable =\n",
              "            await google.colab.kernel.invokeFunction('convertToInteractive',\n",
              "                                                     [key], {});\n",
              "          if (!dataTable) return;\n",
              "\n",
              "          const docLinkHtml = 'Like what you see? Visit the ' +\n",
              "            '<a target=\"_blank\" href=https://colab.research.google.com/notebooks/data_table.ipynb>data table notebook</a>'\n",
              "            + ' to learn more about interactive tables.';\n",
              "          element.innerHTML = '';\n",
              "          dataTable['output_type'] = 'display_data';\n",
              "          await google.colab.output.renderOutput(dataTable, element);\n",
              "          const docLink = document.createElement('div');\n",
              "          docLink.innerHTML = docLinkHtml;\n",
              "          element.appendChild(docLink);\n",
              "        }\n",
              "      </script>\n",
              "    </div>\n",
              "  </div>\n",
              "  "
            ],
            "text/plain": [
              "                Sale  SalesAmountInEuro  ...            day           hour\n",
              "count  100000.000000       13661.000000  ...  100000.000000  100000.000000\n",
              "mean        0.136610         117.030507  ...       3.574710      11.877010\n",
              "std         0.343437         383.010444  ...       0.494389       7.091549\n",
              "min         0.000000           0.000000  ...       3.000000       0.000000\n",
              "25%         0.000000          23.023790  ...       3.000000       5.000000\n",
              "50%         0.000000          51.870000  ...       4.000000      13.000000\n",
              "75%         0.000000         124.990000  ...       4.000000      18.000000\n",
              "max         1.000000       23691.224980  ...       4.000000      23.000000\n",
              "\n",
              "[8 rows x 8 columns]"
            ]
          },
          "metadata": {}
        }
      ],
      "source": [
        "display(data.describe())"
      ]
    },
    {
      "cell_type": "code",
      "execution_count": null,
      "metadata": {
        "colab": {
          "base_uri": "https://localhost:8080/"
        },
        "id": "PcHqHri2udMT",
        "outputId": "29f7701f-96d2-4c72-f182-6caa733a4fb2"
      },
      "outputs": [
        {
          "output_type": "stream",
          "name": "stdout",
          "text": [
            "Numeric columns are:\n",
            "Sale\n",
            "SalesAmountInEuro\n",
            "time_delay_for_conversion\n",
            "nb_clicks_1week\n",
            "product_price\n",
            "product_category(7)\n",
            "day\n",
            "hour\n",
            "\n",
            "Categorical columns are:\n",
            "device_type\n",
            "product_category(4)\n",
            "product_title\n",
            "product_category(6)\n",
            "partner_id\n",
            "user_id\n",
            "product_category(3)\n",
            "product_category(2)\n",
            "product_age_group\n",
            "product_id\n",
            "audience_id\n",
            "product_brand\n",
            "product_category(5)\n",
            "product_category(1)\n",
            "product_gender\n",
            "product_country\n"
          ]
        }
      ],
      "source": [
        "# For each column specify the state of being numeric or categorical\n",
        "num_cols = data._get_numeric_data().columns\n",
        "categ_cols = set(data.columns) - set(num_cols)\n",
        "print('Numeric columns are:')\n",
        "for column in num_cols:\n",
        "    print(column)\n",
        "print('\\nCategorical columns are:')\n",
        "for column in categ_cols:\n",
        "    print(column)\n",
        "    \n"
      ]
    },
    {
      "cell_type": "code",
      "execution_count": null,
      "metadata": {
        "colab": {
          "base_uri": "https://localhost:8080/"
        },
        "id": "b-9_z4LxudMU",
        "outputId": "98a1d57c-e5e0-4f23-d291-fbe572008705"
      },
      "outputs": [
        {
          "output_type": "stream",
          "name": "stdout",
          "text": [
            "Sale\n",
            "2\n",
            "number of missings are: 0\n",
            "SalesAmountInEuro\n",
            "8932\n",
            "number of missings are: 86339\n",
            "time_delay_for_conversion\n",
            "9208\n",
            "number of missings are: 86394\n",
            "nb_clicks_1week\n",
            "1138\n",
            "number of missings are: 46060\n",
            "product_price\n",
            "4496\n",
            "number of missings are: 87216\n",
            "product_age_group\n",
            "9\n",
            "number of missings are: 75603\n",
            "device_type\n",
            "4\n",
            "number of missings are: 39\n",
            "audience_id\n",
            "3182\n",
            "number of missings are: 71793\n",
            "product_gender\n",
            "11\n",
            "number of missings are: 75554\n",
            "product_brand\n",
            "4770\n",
            "number of missings are: 65800\n",
            "product_category(1)\n",
            "22\n",
            "number of missings are: 45502\n",
            "product_category(2)\n",
            "145\n",
            "number of missings are: 45517\n",
            "product_category(3)\n",
            "699\n",
            "number of missings are: 52316\n",
            "product_category(4)\n",
            "910\n",
            "number of missings are: 71222\n",
            "product_category(5)\n",
            "442\n",
            "number of missings are: 92009\n",
            "product_category(6)\n",
            "89\n",
            "number of missings are: 98832\n",
            "product_category(7)\n",
            "1\n",
            "number of missings are: 100000\n",
            "product_country\n",
            "17\n",
            "number of missings are: 23754\n",
            "product_id\n",
            "45447\n",
            "number of missings are: 23714\n",
            "product_title\n",
            "27695\n",
            "number of missings are: 45763\n",
            "partner_id\n",
            "183\n",
            "number of missings are: 0\n",
            "user_id\n",
            "96766\n",
            "number of missings are: 0\n",
            "day\n",
            "2\n",
            "number of missings are: 0\n",
            "hour\n",
            "24\n",
            "number of missings are: 0\n"
          ]
        }
      ],
      "source": [
        "for column in data.columns:\n",
        "    print(column)\n",
        "    print(len(data[column].unique()))\n",
        "    print('number of missings are:', len(data[data[column].isna()]))"
      ]
    },
    {
      "cell_type": "code",
      "execution_count": null,
      "metadata": {
        "id": "3BSuevO3udMU"
      },
      "outputs": [],
      "source": [
        "# drop columns because of too many nan values\n",
        "data = data.drop(columns = ['SalesAmountInEuro','user_id' ,'time_delay_for_conversion' , 'product_category(7)','product_category(5)','product_category(6)'])\n",
        "# column that should be removen because of so many categories\n",
        "data = data.drop(columns = ['product_id','product_title' ,'product_brand' , 'audience_id', 'product_price'])\n",
        "num_cols = data._get_numeric_data().columns\n",
        "categ_cols = set(data.columns) - set(num_cols)\n"
      ]
    },
    {
      "cell_type": "code",
      "execution_count": null,
      "metadata": {
        "colab": {
          "base_uri": "https://localhost:8080/"
        },
        "id": "jcAGa1JUfvWP",
        "outputId": "561c0694-69f9-43f9-c03b-6705bf9dd867"
      },
      "outputs": [
        {
          "output_type": "stream",
          "name": "stdout",
          "text": [
            "nb_clicks_1week nb_clicks_1week 1.0\n",
            "nb_clicks_1week product_age_group 0.997789000276375\n",
            "nb_clicks_1week product_gender 0.997789000276375\n",
            "nb_clicks_1week product_category(1) 0.987688751538906\n",
            "nb_clicks_1week product_category(2) 0.9880405014949373\n",
            "nb_clicks_1week product_category(3) 0.9896736262907967\n",
            "nb_clicks_1week product_category(4) 0.9923117509610311\n",
            "product_age_group product_age_group 1.0\n",
            "product_age_group product_gender 0.9940323428465415\n",
            "device_type nb_clicks_1week 1.0\n",
            "device_type product_age_group 1.0\n",
            "device_type device_type 1.0\n",
            "device_type product_gender 1.0\n",
            "device_type product_category(1) 1.0\n",
            "device_type product_category(2) 1.0\n",
            "device_type product_category(3) 1.0\n",
            "device_type product_category(4) 1.0\n",
            "device_type product_country 1.0\n",
            "product_gender product_age_group 0.9939094141289225\n",
            "product_gender product_gender 1.0\n",
            "product_category(1) nb_clicks_1week 1.0\n",
            "product_category(1) product_age_group 1.0\n",
            "product_category(1) product_gender 1.0\n",
            "product_category(1) product_category(1) 1.0\n",
            "product_category(1) product_category(2) 1.0\n",
            "product_category(1) product_category(3) 1.0\n",
            "product_category(1) product_category(4) 1.0\n",
            "product_category(2) nb_clicks_1week 1.0\n",
            "product_category(2) product_age_group 0.9996439923712651\n",
            "product_category(2) product_gender 0.9996439923712651\n",
            "product_category(2) product_category(1) 0.9996439923712651\n",
            "product_category(2) product_category(2) 1.0\n",
            "product_category(2) product_category(3) 1.0\n",
            "product_category(2) product_category(4) 1.0\n",
            "product_category(3) product_category(3) 1.0\n",
            "product_category(3) product_category(4) 1.0\n",
            "product_category(4) product_category(4) 1.0\n",
            "product_country nb_clicks_1week 1.0\n",
            "product_country product_age_group 1.0\n",
            "product_country product_gender 1.0\n",
            "product_country product_category(1) 1.0\n",
            "product_country product_category(2) 1.0\n",
            "product_country product_category(3) 1.0\n",
            "product_country product_category(4) 1.0\n",
            "product_country product_country 1.0\n"
          ]
        }
      ],
      "source": [
        "# check which columns have correlation in nan values , it means that when first column is nan the second column is nan too\n",
        "def get_corr_of_nan_values(df2, col1, col2):\n",
        "    df = df2[df2['Sale'] == 0]\n",
        "    len1 = len(df[df[col1].isna()])\n",
        "    len2 = len(df[df[col2].isna()])\n",
        "    len3 = len(df[(df[col1].isna()) & (df[col2].isna())])\n",
        "    if len1 > 0 and len2 > 0:\n",
        "        if len3/len1 > 0.90:\n",
        "            print(col1 , col2, len3 / len1)\n",
        "\n",
        "for column in data.columns:\n",
        "    for column2 in data.columns:\n",
        "        get_corr_of_nan_values(data, column, column2)"
      ]
    },
    {
      "cell_type": "code",
      "execution_count": null,
      "metadata": {
        "colab": {
          "base_uri": "https://localhost:8080/",
          "height": 1000
        },
        "id": "A44duLIUudMW",
        "outputId": "916a3f6d-c58e-44b3-ae2d-a852d901ba57"
      },
      "outputs": [
        {
          "output_type": "display_data",
          "data": {
            "image/png": "[encoded data removed]",
            "text/plain": [
              "<Figure size 432x288 with 1 Axes>"
            ]
          },
          "metadata": {}
        },
        {
          "output_type": "display_data",
          "data": {
            "image/png": "[encoded data removed]",
            "text/plain": [
              "<Figure size 432x288 with 1 Axes>"
            ]
          },
          "metadata": {}
        },
        {
          "output_type": "display_data",
          "data": {
            "image/png": "[encoded data removed]",
            "text/plain": [
              "<Figure size 432x288 with 1 Axes>"
            ]
          },
          "metadata": {}
        },
        {
          "output_type": "display_data",
          "data": {
            "image/png": "[encoded data removed]",
            "text/plain": [
              "<Figure size 432x288 with 1 Axes>"
            ]
          },
          "metadata": {}
        }
      ],
      "source": [
        "# distplot numerical columns\n",
        "for column in num_cols:\n",
        "    plt.title(column)\n",
        "    sns.distplot(data[column] , hist = False)\n",
        "    plt.show()\n",
        "    \n"
      ]
    },
    {
      "cell_type": "code",
      "execution_count": null,
      "metadata": {
        "colab": {
          "base_uri": "https://localhost:8080/",
          "height": 1000
        },
        "id": "SefDXLurudMW",
        "outputId": "526ccd11-a419-4391-ae33-0fefd3349f76"
      },
      "outputs": [
        {
          "output_type": "display_data",
          "data": {
            "image/png": "[encoded data removed]",
            "text/plain": [
              "<Figure size 432x288 with 1 Axes>"
            ]
          },
          "metadata": {}
        },
        {
          "output_type": "display_data",
          "data": {
            "image/png": "[encoded data removed]",
            "text/plain": [
              "<Figure size 432x288 with 1 Axes>"
            ]
          },
          "metadata": {}
        },
        {
          "output_type": "display_data",
          "data": {
            "image/png": "[encoded data removed]",
            "text/plain": [
              "<Figure size 432x288 with 1 Axes>"
            ]
          },
          "metadata": {}
        },
        {
          "output_type": "display_data",
          "data": {
            "image/png": "[encoded data removed]",
            "text/plain": [
              "<Figure size 432x288 with 1 Axes>"
            ]
          },
          "metadata": {}
        }
      ],
      "source": [
        "# define outliers\n",
        "# distplot numerical columns\n",
        "for column in num_cols:\n",
        "    plt.title(column)\n",
        "    sns.boxplot(x = data[column])\n",
        "    plt.show()"
      ]
    },
    {
      "cell_type": "code",
      "execution_count": null,
      "metadata": {
        "colab": {
          "base_uri": "https://localhost:8080/",
          "height": 818
        },
        "id": "R6P2SHXzfvWQ",
        "outputId": "9c63cee3-3935-45b8-82ad-6518231a41bd"
      },
      "outputs": [
        {
          "output_type": "display_data",
          "data": {
            "image/png": "[encoded data removed]",
            "text/plain": [
              "<Figure size 432x288 with 1 Axes>"
            ]
          },
          "metadata": {}
        },
        {
          "output_type": "display_data",
          "data": {
            "image/png": "[encoded data removed]",
            "text/plain": [
              "<Figure size 432x288 with 1 Axes>"
            ]
          },
          "metadata": {}
        },
        {
          "output_type": "display_data",
          "data": {
            "image/png": "[encoded data removed]",
            "text/plain": [
              "<Figure size 432x288 with 1 Axes>"
            ]
          },
          "metadata": {}
        }
      ],
      "source": [
        "\n",
        "for column in num_cols:\n",
        "    if column != 'nb_clicks_1week':\n",
        "        data[column].value_counts().plot.bar()\n",
        "        plt.title(column)\n",
        "        plt.show()\n"
      ]
    },
    {
      "cell_type": "code",
      "execution_count": null,
      "metadata": {
        "colab": {
          "base_uri": "https://localhost:8080/",
          "height": 290
        },
        "id": "j9LgZtspfvWR",
        "outputId": "a9a33683-54a1-433a-d34f-a849c26dc25d"
      },
      "outputs": [
        {
          "output_type": "execute_result",
          "data": {
            "text/plain": [
              "<matplotlib.axes._subplots.AxesSubplot at 0x7f487fd10250>"
            ]
          },
          "metadata": {},
          "execution_count": 54
        },
        {
          "output_type": "display_data",
          "data": {
            "image/png": "[encoded data removed]",
            "text/plain": [
              "<Figure size 432x288 with 2 Axes>"
            ]
          },
          "metadata": {}
        }
      ],
      "source": [
        "# heat map correlation matrix\n",
        "sns.heatmap(data.corr())\n"
      ]
    },
    {
      "cell_type": "code",
      "execution_count": null,
      "metadata": {
        "id": "iw_zU39yfvWR"
      },
      "outputs": [],
      "source": [
        "# remove rows with more than 3 null values\n",
        "drop_index = data[(data.isnull().sum(axis=1) >= 2)&(data['Sale'] == 0)].index\n",
        "data = data.drop(data.index[drop_index])"
      ]
    },
    {
      "cell_type": "code",
      "execution_count": null,
      "metadata": {
        "id": "ZC2rWKQHudMX"
      },
      "outputs": [],
      "source": [
        "# # using data wig -> train columns one by one\n",
        "# import datawig\n",
        "# imputer = datawig.SimpleImputer(\n",
        "#     input_columns=['partner_id'],\n",
        "#     output_column='device_type'\n",
        "#     )\n",
        "# data2 = data.copy(deep = True)\n",
        "# imputer.fit(train_df = data2)\n",
        "# print('fitting finished')\n",
        "# imputed = imputer.predict(data)\n",
        "# print(data['device_type'])\n"
      ]
    },
    {
      "cell_type": "code",
      "execution_count": null,
      "metadata": {
        "id": "iRbD_0WZudMY"
      },
      "outputs": [],
      "source": [
        "# fill columns with distribution of the column\n",
        "import random\n",
        "# column = 'product_price'\n",
        "# random.choice(data[data[column] != np.nan][column])\n",
        "for column in data.columns:\n",
        "    s = data[column].value_counts(normalize=True)\n",
        "    missing = data[column].isnull()\n",
        "    data.loc[missing,column] = np.random.choice(s.index, size=len(data[missing]),p=s.values)\n",
        "    "
      ]
    },
    {
      "cell_type": "code",
      "execution_count": null,
      "metadata": {
        "id": "GBvv4k0MfvWS"
      },
      "outputs": [],
      "source": [
        "cut_value = [150,  10,  80,  100,  100,\n",
        "              100,  60,  100,  50]\n",
        "\n",
        "def one_hot_encoding(df):\n",
        "    num_cols = df._get_numeric_data().columns\n",
        "    categ_cols = set(df.columns) - set(num_cols)\n",
        "    for i, column_name in enumerate(categ_cols):\n",
        "#         column_name = f'product_category({i})'\n",
        "          tmp1 = df[column_name].value_counts()\n",
        "          tmp2 = tmp1[tmp1>cut_value[i]].index.tolist()\n",
        "          df_t = (~df[column_name].isin(tmp2)).astype(int).rename(column_name + 'other').to_frame()\n",
        "          for j, item1 in enumerate(tmp2):\n",
        "            #  print(item1)\n",
        "            #  print(df[column_name].isin([item1]).astype(int))\n",
        "            df_t = pd.concat([df_t, df[column_name].isin([item1]).astype(int).rename(column_name+f\"({j})\")], axis=1)\n",
        "          \n",
        "          df = df.drop(columns = column_name)\n",
        "          df = pd.concat([df, df_t], axis=1)\n",
        "    return df\n",
        "\n",
        "data2 = one_hot_encoding(data)"
      ]
    },
    {
      "cell_type": "code",
      "execution_count": null,
      "metadata": {
        "colab": {
          "base_uri": "https://localhost:8080/",
          "height": 1000
        },
        "id": "q1bEsUSEfvWS",
        "outputId": "9daee0c8-7ad1-4e2b-8310-3d2d0a2808e1"
      },
      "outputs": [
        {
          "output_type": "display_data",
          "data": {
            "image/png": "[encoded data removed]",
            "text/plain": [
              "<Figure size 432x288 with 1 Axes>"
            ]
          },
          "metadata": {}
        },
        {
          "output_type": "display_data",
          "data": {
            "image/png": "[encoded data removed]",
            "text/plain": [
              "<Figure size 432x288 with 1 Axes>"
            ]
          },
          "metadata": {}
        },
        {
          "output_type": "display_data",
          "data": {
            "image/png": "[encoded data removed]",
            "text/plain": [
              "<Figure size 432x288 with 1 Axes>"
            ]
          },
          "metadata": {}
        },
        {
          "output_type": "display_data",
          "data": {
            "image/png": "[encoded data removed]",
            "text/plain": [
              "<Figure size 432x288 with 1 Axes>"
            ]
          },
          "metadata": {}
        },
        {
          "output_type": "display_data",
          "data": {
            "image/png": "[encoded data removed]",
            "text/plain": [
              "<Figure size 432x288 with 1 Axes>"
            ]
          },
          "metadata": {}
        },
        {
          "output_type": "display_data",
          "data": {
            "image/png": "[encoded data removed]",
            "text/plain": [
              "<Figure size 432x288 with 1 Axes>"
            ]
          },
          "metadata": {}
        },
        {
          "output_type": "display_data",
          "data": {
            "image/png": "[encoded data removed]",
            "text/plain": [
              "<Figure size 432x288 with 1 Axes>"
            ]
          },
          "metadata": {}
        },
        {
          "output_type": "display_data",
          "data": {
            "image/png": "[encoded data removed]",
            "text/plain": [
              "<Figure size 432x288 with 1 Axes>"
            ]
          },
          "metadata": {}
        },
        {
          "output_type": "display_data",
          "data": {
            "image/png": "[encoded data removed]",
            "text/plain": [
              "<Figure size 432x288 with 1 Axes>"
            ]
          },
          "metadata": {}
        }
      ],
      "source": [
        "num_cols = data._get_numeric_data().columns\n",
        "categ_cols = set(data.columns) - set(num_cols)\n",
        "for i, column_name in enumerate(categ_cols):\n",
        "      a = {}\n",
        "#         column_name = f'product_category({i})'\n",
        "      tmp1 = data[column_name].value_counts()\n",
        "      tmp2 = tmp1[tmp1>cut_value[i]].index.tolist()\n",
        "      ss = (~data[column_name].isin(tmp2)).astype(int).rename(column_name + 'other').sum()\n",
        "      a[0] = ss.sum()\n",
        "      for j, item1 in enumerate(tmp2):\n",
        "            #  print(item1)\n",
        "            #  print(df[column_name].isin([item1]).astype(int))\n",
        "            ss = data[column_name].isin([item1]).astype(int).rename(column_name+f\"({j})\")\n",
        "#             print(ss.sum())\n",
        "            a[j+1] = ss.sum()\n",
        "\n",
        "      plt.bar(a.keys(), a.values())\n",
        "      plt.title(column_name)\n",
        "      plt.show()\n",
        "      "
      ]
    },
    {
      "cell_type": "code",
      "execution_count": null,
      "metadata": {
        "id": "zc6gAENHfvWT"
      },
      "outputs": [],
      "source": [
        "# we have two dataframes : 1 : data : cleaned data without one hot encoding , 2 : cleaned data with one hot encoding"
      ]
    },
    {
      "cell_type": "code",
      "execution_count": null,
      "metadata": {
        "colab": {
          "base_uri": "https://localhost:8080/"
        },
        "id": "XEkQ6afTudMY",
        "outputId": "d2b06a54-baab-4767-f56d-4b3787a07b36"
      },
      "outputs": [
        {
          "output_type": "stream",
          "name": "stdout",
          "text": [
            "       Sale  nb_clicks_1week  day  hour\n",
            "4         0           1064.0    3    20\n",
            "5         0            618.0    4     8\n",
            "10        0              4.0    4     5\n",
            "11        0              8.0    4     9\n",
            "13        1            241.0    3     7\n",
            "...     ...              ...  ...   ...\n",
            "99978     1             11.0    4     2\n",
            "99983     0              2.0    4     8\n",
            "99988     1             48.0    4     8\n",
            "99997     1            169.0    4     8\n",
            "99999     0            182.0    4     8\n",
            "\n",
            "[30780 rows x 4 columns]\n",
            "eigen values are : \n",
            " [4.23214099e+06 4.91269157e+01 2.43179716e-01]\n",
            "eigen vectors are : \n",
            " [[-2.18223736e-05  9.99999998e-01 -7.16290629e-07 -5.37623541e-05]\n",
            " [ 6.69863641e-03  5.38231613e-05 -4.41882763e-02  9.99000762e-01]\n",
            " [ 9.97274911e-01  2.11771824e-05 -7.31049291e-02 -9.92067710e-03]]\n",
            "the variance explained from each of the eigen vectors are:\n",
            " [9.99988301e-01 1.16079169e-05 5.74595392e-08]\n",
            "so the sum of variance explainde is : 0.9999999660028525\n",
            "          Sale  nb_clicks_1week           day      hour\n",
            "PC-1 -0.000022         1.000000 -7.162906e-07 -0.000054\n",
            "PC-2  0.006699         0.000054 -4.418828e-02  0.999001\n",
            "PC-3  0.997275         0.000021 -7.310493e-02 -0.009921\n"
          ]
        }
      ],
      "source": [
        "#######\n",
        "# apply t-sne for remaining columns or pca\n",
        "# 1- PCA :\n",
        "# Load and show some of data points\n",
        "from PIL import Image\n",
        "from sklearn.decomposition import PCA\n",
        "from sklearn.manifold import TSNE\n",
        "\n",
        "data_pca = data[num_cols]\n",
        "data_length = len(data_pca)\n",
        "column_numbers = len(data_pca.columns)\n",
        "\n",
        "print(data_pca)\n",
        "arr = data_pca.to_numpy()\n",
        "arr = arr.reshape((data_length,column_numbers))\n",
        "\n",
        "pca = PCA(n_components=3)\n",
        "principalComponents = pca.fit(arr)\n",
        "print('eigen values are : \\n',principalComponents.explained_variance_)  # eigen values\n",
        "print('eigen vectors are : \\n',principalComponents.components_) \n",
        "print('the variance explained from each of the eigen vectors are:\\n',principalComponents.explained_variance_ratio_)\n",
        "print('so the sum of variance explainde is :', sum(principalComponents.explained_variance_ratio_))\n",
        "print(pd.DataFrame(pca.components_,columns=data_pca.columns,index = ['PC-1','PC-2','PC-3']))\n",
        "\n",
        "\n"
      ]
    },
    {
      "cell_type": "code",
      "execution_count": null,
      "metadata": {
        "id": "2KzUdY_eudMZ"
      },
      "outputs": [],
      "source": [
        "############ Wide and Deep Model ###############"
      ]
    },
    {
      "cell_type": "code",
      "execution_count": null,
      "metadata": {
        "id": "nPrBhwpjudMZ"
      },
      "outputs": [],
      "source": [
        "from sklearn.model_selection import train_test_split\n",
        "data_new = data.copy(deep = True)\n",
        "df_train, df_test = train_test_split(data_new, test_size=0.2, stratify=data_new.Sale)"
      ]
    },
    {
      "cell_type": "code",
      "execution_count": null,
      "metadata": {
        "id": "l2RxfnQEudMa"
      },
      "outputs": [],
      "source": [
        "# !pip install pytorch_widedeep\n",
        "from pytorch_widedeep import Trainer\n",
        "from pytorch_widedeep.preprocessing import WidePreprocessor, TabPreprocessor\n",
        "from pytorch_widedeep.models import Wide, TabMlp, WideDeep\n",
        "from pytorch_widedeep.metrics import Accuracy\n",
        "\n",
        "# prepare wide, crossed, embedding and continuous columns\n",
        "wide_cols = [\n",
        "       'product_age_group',\n",
        "       'device_type', 'product_gender', 'product_category(1)',\n",
        "       'product_category(2)', 'product_category(3)', 'product_category(4)',\n",
        "       'product_country', 'partner_id'\n",
        "]\n",
        "cross_cols = [('product_age_group', 'product_category(1)'), ('product_age_group', 'product_category(2)'), ('product_age_group', 'product_category(3)'), ('product_age_group', 'product_category(4)')]\n",
        "embed_cols = [\n",
        "    (\"product_age_group\", 16),\n",
        "    (\"product_category(1)\", 16),\n",
        "    (\"product_category(2)\", 16),\n",
        "    (\"product_category(3)\", 16),\n",
        "    (\"product_category(4)\", 16),\n",
        "    (\"partner_id\", 16),\n",
        "    (\"product_gender\", 16),\n",
        "    (\"product_country\", 16),\n",
        "    (\"device_type\", 16),\n",
        "]\n",
        "cont_cols = ['nb_clicks_1week', 'day', 'hour']\n",
        "target_col = \"Sale\"\n",
        "\n",
        "# target\n",
        "target = df_train[target_col].values"
      ]
    },
    {
      "cell_type": "code",
      "execution_count": null,
      "metadata": {
        "id": "swCalH52udMa"
      },
      "outputs": [],
      "source": [
        "# wide\n",
        "wide_preprocessor = WidePreprocessor(wide_cols=wide_cols, crossed_cols=cross_cols)\n",
        "X_wide = wide_preprocessor.fit_transform(data_new)\n",
        "wide = Wide(wide_dim=np.unique(X_wide).shape[0], pred_dim=1)\n",
        "\n",
        "# deeptabular\n",
        "tab_preprocessor = TabPreprocessor(embed_cols=embed_cols, continuous_cols=cont_cols)\n",
        "X_tab = tab_preprocessor.fit_transform(data_new)\n",
        "deeptabular = TabMlp(\n",
        "    mlp_hidden_dims=[32, 32],\n",
        "    column_idx=tab_preprocessor.column_idx,\n",
        "    embed_input=tab_preprocessor.embeddings_input,\n",
        "    continuous_cols=cont_cols,\n",
        ")\n",
        "\n",
        "# wide and deep\n",
        "model2 = WideDeep(wide=wide, deeptabular=deeptabular)"
      ]
    },
    {
      "cell_type": "code",
      "execution_count": null,
      "metadata": {
        "colab": {
          "base_uri": "https://localhost:8080/"
        },
        "id": "Q-9dkKdvudMa",
        "outputId": "6d262b09-cb21-4bfe-d8d3-70f44f1be6b7"
      },
      "outputs": [
        {
          "output_type": "stream",
          "name": "stderr",
          "text": [
            "epoch 1: 100%|██████████| 87/87 [00:02<00:00, 32.52it/s, loss=0.725, metrics={'acc': 0.5424}]\n",
            "valid: 100%|██████████| 10/10 [00:00<00:00, 26.13it/s, loss=0.742, metrics={'acc': 0.527}]\n",
            "epoch 2: 100%|██████████| 87/87 [00:03<00:00, 27.53it/s, loss=0.722, metrics={'acc': 0.5453}]\n",
            "valid: 100%|██████████| 10/10 [00:00<00:00, 27.14it/s, loss=0.742, metrics={'acc': 0.5177}]\n",
            "predict: 100%|██████████| 25/25 [00:00<00:00, 47.40it/s]\n"
          ]
        }
      ],
      "source": [
        "# train the model\n",
        "trainer = Trainer(model2, objective=\"binary\", metrics=[Accuracy])\n",
        "trainer.fit(\n",
        "    X_wide=X_wide,\n",
        "    X_tab=X_tab,\n",
        "    target=target,\n",
        "    n_epochs=2,\n",
        "    batch_size=256,\n",
        "    val_split=0.1,\n",
        ")\n",
        "\n",
        "# predict\n",
        "X_wide_te = wide_preprocessor.transform(df_test)\n",
        "X_tab_te = tab_preprocessor.transform(df_test)\n",
        "preds_wide_deep = trainer.predict(X_wide=X_wide_te, X_tab=X_tab_te)"
      ]
    },
    {
      "cell_type": "code",
      "source": [
        "print(sklearn.metrics.classification_report(preds_wide_deep, df_test.Sale))"
      ],
      "metadata": {
        "colab": {
          "base_uri": "https://localhost:8080/"
        },
        "id": "e5DRB6kkh6hc",
        "outputId": "e70f7a5c-01c4-4152-dbde-963c5750c05d"
      },
      "execution_count": null,
      "outputs": [
        {
          "output_type": "stream",
          "name": "stdout",
          "text": [
            "              precision    recall  f1-score   support\n",
            "\n",
            "           0       0.77      0.59      0.67      4427\n",
            "           1       0.34      0.54      0.42      1729\n",
            "\n",
            "    accuracy                           0.58      6156\n",
            "   macro avg       0.56      0.57      0.55      6156\n",
            "weighted avg       0.65      0.58      0.60      6156\n",
            "\n"
          ]
        }
      ]
    },
    {
      "cell_type": "code",
      "source": [
        "import mlflow\n",
        "with mlflow.start_run() as run:\n",
        "   mlflow.sklearn.save_model(trainer, \"my_model_wide\")"
      ],
      "metadata": {
        "colab": {
          "base_uri": "https://localhost:8080/"
        },
        "id": "1gyFFYyIDRJt",
        "outputId": "42c5abb5-6675-4c3d-ec26-8e83dfca18ed"
      },
      "execution_count": null,
      "outputs": [
        {
          "output_type": "stream",
          "name": "stderr",
          "text": [
            "/usr/local/lib/python3.7/dist-packages/mlflow/types/schema.py:49: DeprecationWarning: `np.object` is a deprecated alias for the builtin `object`. To silence this warning, use `object` by itself. Doing this will not modify any behavior and is safe. \n",
            "Deprecated in NumPy 1.20; for more details and guidance: https://numpy.org/devdocs/release/1.20.0-notes.html#deprecations\n",
            "  binary = (7, np.dtype(\"bytes\"), \"BinaryType\", np.object)\n"
          ]
        }
      ]
    },
    {
      "cell_type": "code",
      "source": [
        " !zip -r my_model_wide.zip my_model_wide/ \n"
      ],
      "metadata": {
        "id": "P2fndGjlFSxX",
        "outputId": "07d8e5d3-c3a1-4cb2-ba02-ab9f3114a343",
        "colab": {
          "base_uri": "https://localhost:8080/"
        }
      },
      "execution_count": null,
      "outputs": [
        {
          "output_type": "stream",
          "name": "stdout",
          "text": [
            "  adding: my_model_wide/ (stored 0%)\n",
            "  adding: my_model_wide/conda.yaml (deflated 53%)\n",
            "  adding: my_model_wide/requirements.txt (deflated 49%)\n",
            "  adding: my_model_wide/model.pkl (deflated 12%)\n",
            "  adding: my_model_wide/MLmodel (deflated 36%)\n"
          ]
        }
      ]
    },
    {
      "cell_type": "code",
      "execution_count": null,
      "metadata": {
        "id": "WJGehZ2cudMa"
      },
      "outputs": [],
      "source": [
        "############## Light GBM  #####################\n",
        "# in this versin of Ligh GBM we are using data because it accepts both numerical and categorical columns"
      ]
    },
    {
      "cell_type": "code",
      "execution_count": null,
      "metadata": {
        "id": "w20g6CGOfvWV"
      },
      "outputs": [],
      "source": [
        "from sklearn.model_selection import train_test_split\n",
        "data_new = data.copy(deep = True)\n",
        "df_train, df_test = train_test_split(data_new, test_size=0.2, stratify=data_new.Sale)"
      ]
    },
    {
      "cell_type": "code",
      "execution_count": null,
      "metadata": {
        "id": "jZViAPA2udMa"
      },
      "outputs": [],
      "source": [
        "y_xg = df_train.Sale.copy(deep=True)\n",
        "x_xg = df_train.drop('Sale', axis=1).copy(deep=True)\n",
        "y_xgT = df_test.Sale.copy(deep=True)\n",
        "x_xgT = df_test.drop('Sale', axis=1).copy(deep=True)"
      ]
    },
    {
      "cell_type": "code",
      "execution_count": null,
      "metadata": {
        "id": "RUZKt4eUudMb"
      },
      "outputs": [],
      "source": [
        "for c in x_xg.columns:\n",
        "    col_type = x_xg[c].dtype\n",
        "    if col_type == 'object' or col_type.name == 'category':\n",
        "       x_xg[c] = x_xg[c].astype('category')\n",
        "for c in x_xgT.columns:\n",
        "    col_type = x_xgT[c].dtype\n",
        "    if col_type == 'object' or col_type.name == 'category':\n",
        "       x_xgT[c] = x_xgT[c].astype('category')"
      ]
    },
    {
      "cell_type": "code",
      "execution_count": null,
      "metadata": {
        "id": "Q1wpJWrJfvWV"
      },
      "outputs": [],
      "source": [
        "import lightgbm as lgb\n",
        "#n_estimators is set to a \"large value\". The actual number of trees build will depend on early stopping and 1000 define only the absolute maximum\n",
        "clf = lgb.LGBMClassifier(num_leaves= 15, max_depth=-1, \n",
        "                         random_state=314, \n",
        "                         silent=True, \n",
        "                         metric='None', \n",
        "                         n_jobs=4, \n",
        "                         n_estimators=1000,\n",
        "                         colsample_bytree=0.9,\n",
        "                         subsample=0.9,\n",
        "                         learning_rate=0.1)"
      ]
    },
    {
      "cell_type": "code",
      "execution_count": null,
      "metadata": {
        "id": "BJYbs_IpudMb"
      },
      "outputs": [],
      "source": [
        "fit_params={\"early_stopping_rounds\":10, \n",
        "            \"eval_metric\" : 'auc', \n",
        "            \"eval_set\" : [(x_xgT,y_xgT)],\n",
        "            'eval_names': ['valid'],\n",
        "            'verbose': 100,\n",
        "            'feature_name': 'auto', # that's actually the default\n",
        "            'categorical_feature': 'auto' # that's actually the default\n",
        "           }"
      ]
    },
    {
      "cell_type": "code",
      "execution_count": null,
      "metadata": {
        "colab": {
          "base_uri": "https://localhost:8080/"
        },
        "id": "YrRb1BV6udMb",
        "outputId": "9aff0b9b-aa2d-4925-e3c8-7515d2fff5c1"
      },
      "outputs": [
        {
          "output_type": "stream",
          "name": "stdout",
          "text": [
            "Training until validation scores don't improve for 10 rounds.\n",
            "Early stopping, best iteration is:\n",
            "[56]\tvalid's auc: 0.955163\n"
          ]
        },
        {
          "output_type": "execute_result",
          "data": {
            "text/plain": [
              "LGBMClassifier(colsample_bytree=0.9, metric='None', n_estimators=1000, n_jobs=4,\n",
              "               num_leaves=15, random_state=314, subsample=0.9)"
            ]
          },
          "metadata": {},
          "execution_count": 78
        }
      ],
      "source": [
        "clf.fit(x_xg, y_xg, **fit_params)"
      ]
    },
    {
      "cell_type": "code",
      "execution_count": null,
      "metadata": {
        "id": "rLpdOnrhudMb"
      },
      "outputs": [],
      "source": [
        "aa = clf.predict(x_xgT)"
      ]
    },
    {
      "cell_type": "code",
      "execution_count": null,
      "metadata": {
        "colab": {
          "base_uri": "https://localhost:8080/"
        },
        "id": "2BRDXYLow4xp",
        "outputId": "1f10e2bb-498c-48f4-9bc3-10da72216ed7"
      },
      "outputs": [
        {
          "output_type": "execute_result",
          "data": {
            "text/plain": [
              "('f1', 0.9067193675889328, True)"
            ]
          },
          "metadata": {},
          "execution_count": 80
        }
      ],
      "source": [
        "from sklearn.metrics import f1_score\n",
        "\n",
        "def lgb_f1_score(y_hat, y_true):\n",
        "    return 'f1', f1_score(y_true, y_hat), True\n",
        "\n",
        "lgb_f1_score(aa, y_xgT)"
      ]
    },
    {
      "cell_type": "code",
      "execution_count": null,
      "metadata": {
        "id": "Uqkg3JNEfvWb"
      },
      "outputs": [],
      "source": [
        "########## XGBoost ##########"
      ]
    },
    {
      "cell_type": "code",
      "execution_count": null,
      "metadata": {
        "id": "pKF6Fnq2fvWb"
      },
      "outputs": [],
      "source": [
        "# in this part we are going to tune the model, we decided to tune two important parameters ehta and max-depth. we set ehtha\n",
        "# in the range(0.1,0.7) and max-depth in the range of (2,7) and return the best model"
      ]
    },
    {
      "cell_type": "code",
      "execution_count": null,
      "metadata": {
        "id": "UDa2t3cIfvWc"
      },
      "outputs": [],
      "source": [
        "from sklearn.neural_network import MLPClassifier\n",
        "from sklearn.model_selection import train_test_split\n",
        "\n",
        "df1 = data2.copy(deep = True)\n",
        "df4x = df1.drop(columns=['Sale'], errors='ignore')\n",
        "df4y = df1['Sale']\n",
        "# \n",
        "dfx_train, dfx_test, dfy_train, dfy_test = train_test_split(df4x, df4y, random_state=1)"
      ]
    },
    {
      "cell_type": "code",
      "execution_count": null,
      "metadata": {
        "id": "KEEf4G6_fvWc"
      },
      "outputs": [],
      "source": [
        "from xgboost import XGBClassifier\n",
        "import sklearn\n",
        "from sklearn.ensemble import RandomForestClassifier\n",
        "\n",
        "best_sc = -1\n",
        "best_eta = None\n",
        "best_max_d = None\n",
        "for eta in [0.1, 0.2, 0.3, 0.4, 0.5, 0.6, 0.7]:\n",
        "  for max_d in range(2, 7):\n",
        "    xgb = XGBClassifier(eta=0.4, max_depth=5)\n",
        "    xgb = RandomForestClassifier(n_jobs=-1, verbose=2)\n",
        "    xgb.fit(dfx_train, dfy_train)\n",
        "    res3 = xgb.predict(dfx_test)\n",
        "    # print(sklearn.metrics.classification_report(dfy_test, res3))\n",
        "    # print(sklearn.metrics.confusion_matrix(dfy_test, res3))\n",
        "    x = sklearn.metrics.f1_score(dfy_test, res3)\n",
        "    if best_sc < x:\n",
        "      best_sc = x\n",
        "      best_max_d = max_d\n",
        "      best_eta = eta"
      ]
    },
    {
      "cell_type": "code",
      "execution_count": null,
      "metadata": {
        "colab": {
          "base_uri": "https://localhost:8080/"
        },
        "id": "tnA-PJsEfvWc",
        "outputId": "6ffc96e2-b1dd-4823-9f49-ad9e6da73bbd"
      },
      "outputs": [
        {
          "output_type": "stream",
          "name": "stdout",
          "text": [
            "              precision    recall  f1-score   support\n",
            "\n",
            "           0       0.85      0.97      0.91      4248\n",
            "           1       0.96      0.79      0.87      3447\n",
            "\n",
            "    accuracy                           0.89      7695\n",
            "   macro avg       0.91      0.88      0.89      7695\n",
            "weighted avg       0.90      0.89      0.89      7695\n",
            "\n",
            "[[4135  113]\n",
            " [ 715 2732]]\n"
          ]
        }
      ],
      "source": [
        "# this is the best model\n",
        "xgb = XGBClassifier(eta=best_eta, max_depth=best_max_d)\n",
        "xgb.fit(dfx_train, dfy_train)\n",
        "res3 = xgb.predict(dfx_test)\n",
        "print(sklearn.metrics.classification_report(dfy_test, res3))\n",
        "print(sklearn.metrics.confusion_matrix(dfy_test, res3))"
      ]
    },
    {
      "cell_type": "code",
      "source": [
        "import mlflow\n",
        "with mlflow.start_run() as run:\n",
        "   mlflow.xgboost.save_model(xgb, \"my_xgboost\")"
      ],
      "metadata": {
        "id": "BatwjnjEBAXx"
      },
      "execution_count": null,
      "outputs": []
    },
    {
      "cell_type": "code",
      "source": [
        " !zip -r my_xgboost.zip my_xgboost/ "
      ],
      "metadata": {
        "colab": {
          "base_uri": "https://localhost:8080/"
        },
        "id": "RCWO9ctcDT4n",
        "outputId": "7981fef7-a527-42f8-c34c-a924b072599a"
      },
      "execution_count": null,
      "outputs": [
        {
          "output_type": "stream",
          "name": "stdout",
          "text": [
            "updating: my_xgboost/ (stored 0%)\n",
            "updating: my_xgboost/conda.yaml (deflated 31%)\n",
            "updating: my_xgboost/requirements.txt (deflated 14%)\n",
            "updating: my_xgboost/MLmodel (deflated 35%)\n",
            "  adding: my_xgboost/model.xgb (deflated 69%)\n"
          ]
        }
      ]
    },
    {
      "cell_type": "code",
      "source": [
        "!pip install mlflow"
      ],
      "metadata": {
        "id": "zromzUMNBXxn"
      },
      "execution_count": null,
      "outputs": []
    },
    {
      "cell_type": "code",
      "execution_count": null,
      "metadata": {
        "id": "3qyVKygnfvWc"
      },
      "outputs": [],
      "source": [
        "# In this part we are going to compare XGboost and LightGBM which are discussed previously\n",
        "# for each model we set the best hyper parameters"
      ]
    },
    {
      "cell_type": "code",
      "execution_count": null,
      "metadata": {
        "colab": {
          "base_uri": "https://localhost:8080/"
        },
        "id": "gYN50ThgfvWc",
        "outputId": "04167efa-8593-48ba-ea0b-e2f36cd8172a"
      },
      "outputs": [
        {
          "output_type": "stream",
          "name": "stdout",
          "text": [
            "0.872076141313115\n"
          ]
        }
      ],
      "source": [
        "# LightGBM\n",
        "import lightgbm as lgb \n",
        "import xgboost as xgb \n",
        "dtrain=xgb.DMatrix(dfx_train,label=dfy_train)\n",
        "dtest=xgb.DMatrix(dfx_test)\n",
        "#setting parameters for xgboost\n",
        "parameters={'max_depth':7, 'eta':1, 'silent':1,'objective':'binary:logistic','eval_metric':'auc','learning_rate':.05}\n",
        "num_round=50\n",
        "from datetime import datetime \n",
        "start = datetime.now() \n",
        "xg=xgb.train(parameters,dtrain,num_round) \n",
        "stop = datetime.now()\n",
        "#Execution time of the model \n",
        "execution_time_xgb = stop-start \n",
        "execution_time_xgb\n",
        "#datetime.timedelta( , , ) representation => (days , seconds , microseconds) \n",
        "#now predicting our model on test set \n",
        "ypred=xg.predict(dtest) \n",
        "\n",
        "#Converting probabilities into 1 or 0  \n",
        "for i in range(0,len(ypred)): \n",
        "    if ypred[i]>=.5:       # setting threshold to .5 \n",
        "       ypred[i]=1 \n",
        "    else: \n",
        "       ypred[i]=0  \n",
        "    \n",
        "#calculating accuracy of our model \n",
        "from sklearn.metrics import accuracy_score, f1_score \n",
        "accuracy_xgb = accuracy_score(dfy_test,ypred) \n",
        "f1_xgb = f1_score(dfy_test,ypred)\n",
        "print(f1_xgb)"
      ]
    },
    {
      "cell_type": "code",
      "execution_count": null,
      "metadata": {
        "id": "Mk4DyM7EfvWd"
      },
      "outputs": [],
      "source": [
        "train_data=lgb.Dataset(dfx_train,label=dfy_train)\n",
        "#setting parameters for lightgbm\n",
        "param = {'num_leaves':150, 'objective':'binary','max_depth':7,'learning_rate':.05,'max_bin':200}\n",
        "param['metric'] = ['auc', 'binary_logloss']\n",
        "#Here we have set max_depth in xgb and LightGBM to 7 to have a fair comparison between the two.\n",
        "#training our model using light gbm\n",
        "num_round=50\n",
        "start=datetime.now()\n",
        "lgbm=lgb.train(param,train_data,num_round)\n",
        "stop=datetime.now()\n",
        "#Execution time of the model\n",
        "execution_time_lgbm = stop-start\n",
        "execution_time_lgbm\n",
        "#predicting on test set\n",
        "ypred2=lgbm.predict(dfx_test)\n",
        "ypred2[0:5]  # showing first 5 predictions\n",
        "#converting probabilities into 0 or 1\n",
        "for i in range(0,len(ypred2)):\n",
        "    if ypred2[i]>=.5:       # setting threshold to .5\n",
        "       ypred2[i]=1\n",
        "    else:  \n",
        "       ypred2[i]=0"
      ]
    },
    {
      "cell_type": "code",
      "execution_count": null,
      "metadata": {
        "colab": {
          "base_uri": "https://localhost:8080/"
        },
        "id": "2mUOGiTffvWd",
        "outputId": "6100e969-3e8c-426f-909a-00ae893fb323"
      },
      "outputs": [
        {
          "output_type": "stream",
          "name": "stdout",
          "text": [
            "0.8715389568576947\n"
          ]
        }
      ],
      "source": [
        "#calculating accuracy\n",
        "from sklearn.metrics import accuracy_score \n",
        "accuracy_lgbm = accuracy_score(ypred2,dfy_test)\n",
        "f1_lgbm = f1_score(ypred2,dfy_test)\n",
        "dfy_test.value_counts()\n",
        "from sklearn.metrics import roc_auc_score\n",
        "#calculating roc_auc_score for xgboost\n",
        "auc_xgb =  roc_auc_score(dfy_test,ypred)\n",
        "print(f1_lgbm)\n",
        "#calculating roc_auc_score for light gbm. "
      ]
    },
    {
      "cell_type": "code",
      "execution_count": null,
      "metadata": {
        "id": "UegcRREYfvWd"
      },
      "outputs": [],
      "source": [
        "#calculating roc_auc_score for light gbm. \n",
        "auc_lgbm = roc_auc_score(dfy_test,ypred2)\n",
        "comparison_dict = {'f1 score':(f1_lgbm,f1_xgb),'accuracy score':(accuracy_lgbm,accuracy_xgb),'auc score':(auc_lgbm,auc_xgb),'execution time':(execution_time_lgbm,execution_time_xgb)}"
      ]
    },
    {
      "cell_type": "code",
      "execution_count": null,
      "metadata": {
        "colab": {
          "base_uri": "https://localhost:8080/",
          "height": 112
        },
        "id": "ZsFnpsxufvWd",
        "outputId": "821dedb5-79e8-4fa2-bbac-389fdca6bfb6"
      },
      "outputs": [
        {
          "output_type": "execute_result",
          "data": {
            "text/html": [
              "\n",
              "  <div id=\"df-6836f007-b340-4b90-ba6c-296ff86fba74\">\n",
              "    <div class=\"colab-df-container\">\n",
              "      <div>\n",
              "<style scoped>\n",
              "    .dataframe tbody tr th:only-of-type {\n",
              "        vertical-align: middle;\n",
              "    }\n",
              "\n",
              "    .dataframe tbody tr th {\n",
              "        vertical-align: top;\n",
              "    }\n",
              "\n",
              "    .dataframe thead th {\n",
              "        text-align: right;\n",
              "    }\n",
              "</style>\n",
              "<table border=\"1\" class=\"dataframe\">\n",
              "  <thead>\n",
              "    <tr style=\"text-align: right;\">\n",
              "      <th></th>\n",
              "      <th>f1 score</th>\n",
              "      <th>accuracy score</th>\n",
              "      <th>auc score</th>\n",
              "      <th>execution time</th>\n",
              "    </tr>\n",
              "  </thead>\n",
              "  <tbody>\n",
              "    <tr>\n",
              "      <th>LightGBM</th>\n",
              "      <td>0.871539</td>\n",
              "      <td>0.896296</td>\n",
              "      <td>0.885834</td>\n",
              "      <td>0 days 00:00:00.529603</td>\n",
              "    </tr>\n",
              "    <tr>\n",
              "      <th>xgboost</th>\n",
              "      <td>0.872076</td>\n",
              "      <td>0.896946</td>\n",
              "      <td>0.886313</td>\n",
              "      <td>0 days 00:00:24.811309</td>\n",
              "    </tr>\n",
              "  </tbody>\n",
              "</table>\n",
              "</div>\n",
              "      <button class=\"colab-df-convert\" onclick=\"convertToInteractive('df-6836f007-b340-4b90-ba6c-296ff86fba74')\"\n",
              "              title=\"Convert this dataframe to an interactive table.\"\n",
              "              style=\"display:none;\">\n",
              "        \n",
              "  <svg xmlns=\"http://www.w3.org/2000/svg\" height=\"24px\"viewBox=\"0 0 24 24\"\n",
              "       width=\"24px\">\n",
              "    <path d=\"M0 0h24v24H0V0z\" fill=\"none\"/>\n",
              "    <path d=\"M18.56 5.44l.94 2.06.94-2.06 2.06-.94-2.06-.94-.94-2.06-.94 2.06-2.06.94zm-11 1L8.5 8.5l.94-2.06 2.06-.94-2.06-.94L8.5 2.5l-.94 2.06-2.06.94zm10 10l.94 2.06.94-2.06 2.06-.94-2.06-.94-.94-2.06-.94 2.06-2.06.94z\"/><path d=\"M17.41 7.96l-1.37-1.37c-.4-.4-.92-.59-1.43-.59-.52 0-1.04.2-1.43.59L10.3 9.45l-7.72 7.72c-.78.78-.78 2.05 0 2.83L4 21.41c.39.39.9.59 1.41.59.51 0 1.02-.2 1.41-.59l7.78-7.78 2.81-2.81c.8-.78.8-2.07 0-2.86zM5.41 20L4 18.59l7.72-7.72 1.47 1.35L5.41 20z\"/>\n",
              "  </svg>\n",
              "      </button>\n",
              "      \n",
              "  <style>\n",
              "    .colab-df-container {\n",
              "      display:flex;\n",
              "      flex-wrap:wrap;\n",
              "      gap: 12px;\n",
              "    }\n",
              "\n",
              "    .colab-df-convert {\n",
              "      background-color: #E8F0FE;\n",
              "      border: none;\n",
              "      border-radius: 50%;\n",
              "      cursor: pointer;\n",
              "      display: none;\n",
              "      fill: #1967D2;\n",
              "      height: 32px;\n",
              "      padding: 0 0 0 0;\n",
              "      width: 32px;\n",
              "    }\n",
              "\n",
              "    .colab-df-convert:hover {\n",
              "      background-color: #E2EBFA;\n",
              "      box-shadow: 0px 1px 2px rgba(60, 64, 67, 0.3), 0px 1px 3px 1px rgba(60, 64, 67, 0.15);\n",
              "      fill: #174EA6;\n",
              "    }\n",
              "\n",
              "    [theme=dark] .colab-df-convert {\n",
              "      background-color: #3B4455;\n",
              "      fill: #D2E3FC;\n",
              "    }\n",
              "\n",
              "    [theme=dark] .colab-df-convert:hover {\n",
              "      background-color: #434B5C;\n",
              "      box-shadow: 0px 1px 3px 1px rgba(0, 0, 0, 0.15);\n",
              "      filter: drop-shadow(0px 1px 2px rgba(0, 0, 0, 0.3));\n",
              "      fill: #FFFFFF;\n",
              "    }\n",
              "  </style>\n",
              "\n",
              "      <script>\n",
              "        const buttonEl =\n",
              "          document.querySelector('#df-6836f007-b340-4b90-ba6c-296ff86fba74 button.colab-df-convert');\n",
              "        buttonEl.style.display =\n",
              "          google.colab.kernel.accessAllowed ? 'block' : 'none';\n",
              "\n",
              "        async function convertToInteractive(key) {\n",
              "          const element = document.querySelector('#df-6836f007-b340-4b90-ba6c-296ff86fba74');\n",
              "          const dataTable =\n",
              "            await google.colab.kernel.invokeFunction('convertToInteractive',\n",
              "                                                     [key], {});\n",
              "          if (!dataTable) return;\n",
              "\n",
              "          const docLinkHtml = 'Like what you see? Visit the ' +\n",
              "            '<a target=\"_blank\" href=https://colab.research.google.com/notebooks/data_table.ipynb>data table notebook</a>'\n",
              "            + ' to learn more about interactive tables.';\n",
              "          element.innerHTML = '';\n",
              "          dataTable['output_type'] = 'display_data';\n",
              "          await google.colab.output.renderOutput(dataTable, element);\n",
              "          const docLink = document.createElement('div');\n",
              "          docLink.innerHTML = docLinkHtml;\n",
              "          element.appendChild(docLink);\n",
              "        }\n",
              "      </script>\n",
              "    </div>\n",
              "  </div>\n",
              "  "
            ],
            "text/plain": [
              "          f1 score  accuracy score  auc score         execution time\n",
              "LightGBM  0.871539        0.896296   0.885834 0 days 00:00:00.529603\n",
              "xgboost   0.872076        0.896946   0.886313 0 days 00:00:24.811309"
            ]
          },
          "metadata": {},
          "execution_count": 90
        }
      ],
      "source": [
        "#Creating a dataframe ‘comparison_df’ for comparing the performance of Lightgbm and xgb. \n",
        "comparison_df =pd.DataFrame(comparison_dict) \n",
        "comparison_df.index= ['LightGBM','xgboost'] \n",
        "comparison_df"
      ]
    },
    {
      "cell_type": "code",
      "execution_count": null,
      "metadata": {
        "id": "BUWoS2hafvWe"
      },
      "outputs": [],
      "source": [
        "# As shown above reach the same f1_score. But the advantage of LightGBM is that it is much faster."
      ]
    },
    {
      "cell_type": "code",
      "execution_count": null,
      "metadata": {
        "id": "u2nQhL_6fvWe"
      },
      "outputs": [],
      "source": [
        "############# Second deep model : MLP classifier"
      ]
    },
    {
      "cell_type": "code",
      "execution_count": null,
      "metadata": {
        "id": "oFkMXIG4fvWe"
      },
      "outputs": [],
      "source": [
        "from sklearn.neural_network import MLPClassifier\n",
        "from sklearn.model_selection import train_test_split\n",
        "\n",
        "df4x = df1.drop(columns=['Sale'], errors='ignore')\n",
        "df4y = df1['Sale']\n",
        "# \n",
        "dfx_train, dfx_test, dfy_train, dfy_test = train_test_split(df4x, df4y, random_state=1)"
      ]
    },
    {
      "cell_type": "code",
      "execution_count": null,
      "metadata": {
        "colab": {
          "base_uri": "https://localhost:8080/"
        },
        "id": "FV9P_CqTfvWe",
        "outputId": "f3fd2ec1-4fea-45b4-edd4-1f0395818989"
      },
      "outputs": [
        {
          "output_type": "stream",
          "name": "stdout",
          "text": [
            "              precision    recall  f1-score   support\n",
            "\n",
            "           0       0.94      0.88      0.91      4548\n",
            "           1       0.85      0.93      0.88      3147\n",
            "\n",
            "    accuracy                           0.90      7695\n",
            "   macro avg       0.89      0.90      0.90      7695\n",
            "weighted avg       0.90      0.90      0.90      7695\n",
            "\n",
            "[[4014  534]\n",
            " [ 234 2913]]\n"
          ]
        }
      ],
      "source": [
        "classifier = MLPClassifier(hidden_layer_sizes=(50,50, 20), max_iter=30,activation = 'relu',solver='adam',random_state=1)\n",
        "classifier.fit(dfx_train, dfy_train)\n",
        "y_pred = classifier.predict(dfx_test)\n",
        "print(sklearn.metrics.classification_report(y_pred, dfy_test))\n",
        "print(sklearn.metrics.confusion_matrix(y_pred, dfy_test))"
      ]
    },
    {
      "cell_type": "code",
      "execution_count": null,
      "metadata": {
        "colab": {
          "base_uri": "https://localhost:8080/"
        },
        "id": "HRPtbGuufvWe",
        "outputId": "d84355f3-6e70-47e7-a0f5-6895a14cad1a"
      },
      "outputs": [
        {
          "output_type": "stream",
          "name": "stdout",
          "text": [
            "XGB classifier\n",
            "              precision    recall  f1-score   support\n",
            "\n",
            "           0       0.86      0.99      0.92      4248\n",
            "           1       0.98      0.81      0.89      3447\n",
            "\n",
            "    accuracy                           0.91      7695\n",
            "   macro avg       0.92      0.90      0.90      7695\n",
            "weighted avg       0.92      0.91      0.91      7695\n",
            "\n",
            "MLclassifier:\n",
            "              precision    recall  f1-score   support\n",
            "\n",
            "           0       0.94      0.88      0.91      4548\n",
            "           1       0.85      0.93      0.88      3147\n",
            "\n",
            "    accuracy                           0.90      7695\n",
            "   macro avg       0.89      0.90      0.90      7695\n",
            "weighted avg       0.90      0.90      0.90      7695\n",
            "\n",
            "LightGBM classifier\n",
            "              precision    recall  f1-score   support\n",
            "\n",
            "           0       0.99      0.89      0.93      3828\n",
            "           1       0.84      0.99      0.91      2328\n",
            "\n",
            "    accuracy                           0.92      6156\n",
            "   macro avg       0.91      0.94      0.92      6156\n",
            "weighted avg       0.93      0.92      0.92      6156\n",
            "\n",
            "Wide & Deep\n",
            "              precision    recall  f1-score   support\n",
            "\n",
            "           0       0.72      0.56      0.63      4427\n",
            "           1       0.28      0.44      0.34      1729\n",
            "\n",
            "    accuracy                           0.52      6156\n",
            "   macro avg       0.50      0.50      0.48      6156\n",
            "weighted avg       0.60      0.52      0.55      6156\n",
            "\n"
          ]
        }
      ],
      "source": [
        "# Conclusion : here we are going give a brief description of our functionality\n",
        "# we have 2 deep models and 2 non-deep models\n",
        "print('XGB classifier')\n",
        "print(sklearn.metrics.classification_report(dfy_test, res3))\n",
        "\n",
        "\n",
        "print('MLclassifier:')\n",
        "print(sklearn.metrics.classification_report(y_pred, dfy_test))\n",
        "\n",
        "print('LightGBM classifier')\n",
        "print(sklearn.metrics.classification_report(aa, y_xgT))\n",
        "\n",
        "print('Wide & Deep')\n",
        "print(sklearn.metrics.classification_report(preds_wide_deep, df_test.Sale))"
      ]
    }
  ],
  "metadata": {
    "colab": {
      "provenance": []
    },
    "kernelspec": {
      "display_name": "Python 3",
      "language": "python",
      "name": "python3"
    },
    "language_info": {
      "codemirror_mode": {
        "name": "ipython",
        "version": 3
      },
      "file_extension": ".py",
      "mimetype": "text/x-python",
      "name": "python",
      "nbconvert_exporter": "python",
      "pygments_lexer": "ipython3",
      "version": "3.7.3"
    }
  },
  "nbformat": 4,
  "nbformat_minor": 0
}